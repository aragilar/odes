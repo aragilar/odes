{
 "cells": [
  {
   "cell_type": "code",
   "execution_count": null,
   "metadata": {},
   "outputs": [],
   "source": [
    "%matplotlib inline"
   ]
  },
  {
   "cell_type": "markdown",
   "metadata": {},
   "source": [
    "# Planar Pendulum Example\n",
    "\n",
    "This example shows how to solve the planar pendulum in full coordinate space. This results in a dae system with one algebraic equation.\n",
    "\n",
    "The problem is easily stated: a pendulum must move on a circle with radius l,\n",
    "it has a mass m, and gravitational accelleration is g.\n",
    "\n",
    "The Lagragian is $L = 1/2 m (u^2 + v^2) - m g y$, with constraint: $x^2+y^2 = l$. $u$ is the speed $\\dot x$ and $v$ is $\\dot y$.\n",
    "\n",
    "Adding a Lagrange multiplier $\\lambda$, we arrive at the Euler Lagrange\n",
    "differential equations for the problem:\n",
    "$$\n",
    "\\begin{array}{ll}\n",
    "\\dot{x} = u \\\\\n",
    "\\dot{y} = v \\\\\n",
    "\\dot{u} = \\lambda \\frac x m\\\\\n",
    "\\dot{v} = \\lambda \\frac y m - g\\\\\n",
    "\\end{array}\n",
    "$$\n",
    "and $\\lambda$ must be such that the constraint is satisfied:\n",
    "$x^2+y^2 = l$.\n",
    "\n",
    "We next derive a different constraint that contains more of the unknowns, as well as $\\lambda$.\n",
    "Derivation to time of the constraint gives a new constraint:\n",
    "$x u + y v =0$.\n",
    "\n",
    "Derivating a second time to time gives us:\n",
    "$$u^2 + v^2 + x \\dot{u} + y \\dot{v} = 0$$\n",
    "which can be written with the known form of $\\dot{u}$, $\\dot{v}$ as\n",
    "$$u^2 + v^2 + \\lambda \\frac{l^2}{m} - g y = 0.$$\n",
    "\n",
    "This last expression will be used to find the solution to the planar pendulum problem.\n",
    "\n",
    "The algorithm first needs to find initial conditions for the derivatives,\n",
    "then it solves the problme at hand. We take $g=1$, $m=1$, $l=1$."
   ]
  },
  {
   "cell_type": "code",
   "execution_count": null,
   "metadata": {},
   "outputs": [],
   "source": [
    "import matplotlib.pyplot as plt\n",
    "import numpy as np\n",
    "from scikits.odes import dae"
   ]
  },
  {
   "cell_type": "code",
   "execution_count": null,
   "metadata": {},
   "outputs": [],
   "source": [
    "#data of the pendulum\n",
    "l = 1.0\n",
    "m = 1.0\n",
    "g = 1.0\n",
    "#initial condition\n",
    "theta0= np.pi/3 #starting angle\n",
    "x0=np.sin(theta0)\n",
    "y0=-(l-x0**2)**.5\n",
    "lambdaval = 0.1\n",
    "z0  = [x0, y0, 0., 0., lambdaval]\n",
    "zp0 = [0., 0., lambdaval*x0/m, lambdaval*y0/m-g, -g]"
   ]
  },
  {
   "cell_type": "markdown",
   "metadata": {},
   "source": [
    "We need a first order system cast into residual equations, so we convert the problem as such. This consists of 4 differential equations and one algebraic equation: \n",
    "$$\n",
    "\\begin{array}{ll}\n",
    "0 = u - \\dot{x}\\\\\n",
    "0 = v - \\dot{y}\\\\\n",
    "0 = -\\dot{u} + \\lambda \\frac x m\\\\\n",
    "0 = -\\dot{v} + \\lambda \\frac y m - g\\\\\n",
    "0 = u^2 + v^2 + \\lambda \\frac{l^2}{m} - g y\n",
    "\\end{array}\n",
    "$$\n",
    "You need to define a function that computes the right hand side of above equation:"
   ]
  },
  {
   "cell_type": "code",
   "execution_count": null,
   "metadata": {},
   "outputs": [],
   "source": [
    "def residual(t, x, xdot, result):\n",
    "    \"\"\" we create the residual equations for the problem\"\"\"\n",
    "    result[0] = x[2]-xdot[0]\n",
    "    result[1] = x[3]-xdot[1]\n",
    "    result[2] = -xdot[2]+x[4]*x[0]/m\n",
    "    result[3] = -xdot[3]+x[4]*x[1]/m-g\n",
    "    result[4] = x[2]**2 + x[3]**2 \\\n",
    "                    + (x[0]**2 + x[1]**2)/m*x[4] - x[1] * g"
   ]
  },
  {
   "cell_type": "markdown",
   "metadata": {},
   "source": [
    "To solve the DAE you define a dae object, specify the solver to use, here ida, and pass the residual function. You request the solution at specific timepoints by passing an array of times to the solve member."
   ]
  },
  {
   "cell_type": "code",
   "execution_count": null,
   "metadata": {
    "collapsed": false,
    "jupyter": {
     "outputs_hidden": false
    }
   },
   "outputs": [],
   "source": [
    "solver = dae('ida', residual, \n",
    "             compute_initcond='yp0',\n",
    "             first_step_size=1e-18,\n",
    "             atol=1e-6,\n",
    "             rtol=1e-6,\n",
    "             algebraic_vars_idx=[4],\n",
    "             compute_initcond_t0 = 60,\n",
    "             old_api=False)\n",
    "solution = solver.solve([0., 1., 2.], z0, zp0)"
   ]
  },
  {
   "cell_type": "code",
   "execution_count": null,
   "metadata": {
    "collapsed": false,
    "jupyter": {
     "outputs_hidden": false
    }
   },
   "outputs": [],
   "source": [
    "print('\\n   t        Solution')\n",
    "print('----------------------')\n",
    "for t, u in zip(solution.values.t, solution.values.y):\n",
    "    print('{0:>4.0f} {1:15.6g} '.format(t, u[0]))\n"
   ]
  },
  {
   "cell_type": "markdown",
   "metadata": {},
   "source": [
    "You can continue the solver by passing further times. Calling the solve routine reinits the solver, so you can restart at whatever time. To continue from the last computed solution, pass the last obtained time and solution. \n",
    "\n",
    "**Note:** The solver performes better if it can take into account history information, so avoid calling solve to continue computation!\n",
    "\n",
    "In general, you must check for errors using the errors output of solve."
   ]
  },
  {
   "cell_type": "code",
   "execution_count": null,
   "metadata": {
    "collapsed": false,
    "jupyter": {
     "outputs_hidden": false
    }
   },
   "outputs": [],
   "source": [
    "#Solve over the next hour by continuation\n",
    "times = np.linspace(0, 3600, 61)\n",
    "times[0] = solution.values.t[-1]\n",
    "solution = solver.solve(times, solution.values.y[-1], solution.values.ydot[-1])\n",
    "if solution.errors.t:\n",
    "    print ('Error: ', solution.message, 'Error at time', solution.errors.t)\n",
    "print ('Computed Solutions:')\n",
    "print('\\n   t        Solution ')\n",
    "print('-----------------------')\n",
    "for t, u in zip(solution.values.t, solution.values.y):\n",
    "    print('{0:>4.0f} {1:15.6g}'.format(t, u[0]))\n"
   ]
  },
  {
   "cell_type": "markdown",
   "metadata": {},
   "source": [
    "The solution fails at a time around 15 seconds. Errors can be due to many things. Here however the reason is simple: we try to make too large jumps in time output. Increasing the allowed steps the solver can take will fix this. This is the **max_steps** option of ida:"
   ]
  },
  {
   "cell_type": "code",
   "execution_count": null,
   "metadata": {
    "collapsed": false,
    "jupyter": {
     "outputs_hidden": false
    }
   },
   "outputs": [],
   "source": [
    "solver = dae('ida', residual, \n",
    "             compute_initcond='yp0',\n",
    "             first_step_size=1e-18,\n",
    "             atol=1e-6,\n",
    "             rtol=1e-6,\n",
    "             algebraic_vars_idx=[4],\n",
    "             compute_initcond_t0 = 60,\n",
    "             old_api=False,\n",
    "             max_steps=5000)\n",
    "solution = solver.solve(times, solution.values.y[-1], solution.values.ydot[-1])\n",
    "if solution.errors.t:\n",
    "    print ('Error: ', solution.message, 'Error at time', solution.errors.t)\n",
    "print ('Computed Solutions:')\n",
    "print('\\n   t        Solution')\n",
    "print('----------------------')\n",
    "for t, u in zip(solution.values.t, solution.values.y):\n",
    "    print('{0:>4.0f} {1:15.6g} '.format(t, u[0]))\n"
   ]
  },
  {
   "cell_type": "markdown",
   "metadata": {},
   "source": [
    "To plot the simple oscillator, we show a (t,x)  and (t,y) plot of the solution. Doing this over 60 seconds can be done as follows:"
   ]
  },
  {
   "cell_type": "code",
   "execution_count": null,
   "metadata": {
    "collapsed": false,
    "jupyter": {
     "outputs_hidden": false
    }
   },
   "outputs": [],
   "source": [
    "#plot of the oscilator\n",
    "solver =  dae('ida', residual, \n",
    "             compute_initcond='yp0',\n",
    "             first_step_size=1e-18,\n",
    "             atol=1e-6,\n",
    "             rtol=1e-6,\n",
    "             algebraic_vars_idx=[4],\n",
    "             old_api=False,\n",
    "             max_steps=5000)\n",
    "times = np.linspace(0,60,600)\n",
    "solution = solver.solve(times, z0, zp0)\n",
    "f, axs = plt.subplots(2,2,figsize=(15,7))\n",
    "plt.subplot(1, 2, 1)\n",
    "plt.plot(solution.values.t,[x[0] for x in solution.values.y])\n",
    "plt.xlabel('Time [s]')\n",
    "plt.ylabel('Position x [m]')\n",
    "plt.subplot(1, 2, 2)\n",
    "plt.plot(solution.values.t,[x[1] for x in solution.values.y])\n",
    "plt.xlabel('Time [s]')\n",
    "plt.ylabel('Position y [m]')\n",
    "plt.show()\n",
    "# plot in space\n",
    "plt.axis('equal')\n",
    "plt.plot([x[0] for x in solution.values.y],[x[1] for x in solution.values.y],)\n",
    "plt.xlabel('x')\n",
    "plt.ylabel('y')\n",
    "plt.show()"
   ]
  },
  {
   "cell_type": "markdown",
   "metadata": {
    "collapsed": true,
    "jupyter": {
     "outputs_hidden": true
    }
   },
   "source": [
    "# Planar Pendulum Example: Stepwise running\n",
    "When using the solve method, you solve over a period of time you decided before. In some problems you might want to solve and decide on the output when to stop. Then you use the step method. The same example as above using the step method can be solved as follows.\n",
    "\n",
    "You define the dae object selecting the ida solver. You initialize the solver with the begin time and initial conditions using _init_step_. You compute solutions going forward with the _step_ method."
   ]
  },
  {
   "cell_type": "code",
   "execution_count": null,
   "metadata": {
    "collapsed": false,
    "jupyter": {
     "outputs_hidden": false
    }
   },
   "outputs": [],
   "source": [
    "solver = dae('ida', residual, \n",
    "             compute_initcond='yp0',\n",
    "             first_step_size=1e-18,\n",
    "             atol=1e-6,\n",
    "             rtol=1e-6,\n",
    "             algebraic_vars_idx=[4],\n",
    "             old_api=False)\n",
    "time = 0.\n",
    "solver.init_step(time, z0, zp0)\n",
    "plott = []\n",
    "plotx = []\n",
    "while True:\n",
    "    time += 0.1\n",
    "    # fix roundoff error at end\n",
    "    if time > 60: time = 60\n",
    "    solution = solver.step(time)\n",
    "    if solution.errors.t:\n",
    "        print ('Error: ', solution.message, 'Error at time', solution.errors.t)\n",
    "        break\n",
    "    #we store output for plotting\n",
    "    plott.append(solution.values.t)\n",
    "    plotx.append(solution.values.y[0])\n",
    "    if time >= 60:\n",
    "        break\n",
    "plt.plot(plott, plotx)\n",
    "plt.xlabel('Time [s]')\n",
    "plt.ylabel('Position [m]')\n",
    "plt.show()"
   ]
  },
  {
   "cell_type": "markdown",
   "metadata": {},
   "source": [
    "The solver interpolates solutions to return the solution at the required output times:"
   ]
  },
  {
   "cell_type": "code",
   "execution_count": null,
   "metadata": {
    "collapsed": false,
    "jupyter": {
     "outputs_hidden": false
    }
   },
   "outputs": [],
   "source": [
    "print ('plott length:', len(plott), ', last computation times:', plott[-15:]);"
   ]
  },
  {
   "cell_type": "markdown",
   "metadata": {},
   "source": [
    "# Planar Pendulum  Example: Internal Solver Stepwise running\n",
    "When using the *solve* method, you solve over a period of time you decided before. With the *step* method you solve by default towards a desired output time after which you can continue solving the problem. \n",
    "\n",
    "For full control, you can also compute problems using the solver internal steps. This is not advised, as the number of return steps can be very large, **slowing down** the computation enormously. If you want this nevertheless, you can achieve it with the *one_step_compute* option. Like this:"
   ]
  },
  {
   "cell_type": "code",
   "execution_count": null,
   "metadata": {
    "collapsed": false,
    "jupyter": {
     "outputs_hidden": false
    }
   },
   "outputs": [],
   "source": [
    "solver = dae('ida', residual, \n",
    "             compute_initcond='yp0',\n",
    "             first_step_size=1e-18,\n",
    "             atol=1e-6,\n",
    "             rtol=1e-6,\n",
    "             algebraic_vars_idx=[4],\n",
    "             old_api=False, \n",
    "             one_step_compute=True)\n",
    "time = 0.\n",
    "solver.init_step(time, z0, zp0)\n",
    "plott = []\n",
    "plotx = []\n",
    "while True:\n",
    "    solution = solver.step(60)\n",
    "    if solution.errors.t:\n",
    "        print ('Error: ', solution.message, 'Error at time', solution.errors.t)\n",
    "        break\n",
    "    #we store output for plotting\n",
    "    plott.append(solution.values.t)\n",
    "    plotx.append(solution.values.y[0])\n",
    "    if solution.values.t >= 60:\n",
    "        #back up to 60\n",
    "        solver.set_options(one_step_compute=False)\n",
    "        solution = solver.step(60)\n",
    "        plott[-1] = solution.values.t\n",
    "        plotx[-1] = solution.values.y[0]\n",
    "        break\n",
    "plt.plot(plott,plotx)\n",
    "plt.xlabel('Time [s]')\n",
    "plt.ylabel('Position [m]')\n",
    "plt.show()"
   ]
  },
  {
   "cell_type": "markdown",
   "metadata": {},
   "source": [
    "By inspection of the returned times you can see how efficient the solver can solve this problem:"
   ]
  },
  {
   "cell_type": "code",
   "execution_count": null,
   "metadata": {
    "collapsed": false,
    "jupyter": {
     "outputs_hidden": false
    }
   },
   "outputs": [],
   "source": [
    "print ('plott length:', len(plott), ', last computation times:', plott[-15:]);"
   ]
  },
  {
   "cell_type": "markdown",
   "metadata": {
    "collapsed": true,
    "jupyter": {
     "outputs_hidden": true
    }
   },
   "source": [
    "# Animation of the planar pendulum\n",
    "No example of the pendulum is complete without an animation. Having fixed timestep output is ideal to create realistic animations of physical processes. We show at 10 frames per second the first 10 seconds next.\n",
    "We start with loading functions to show animations"
   ]
  },
  {
   "cell_type": "code",
   "execution_count": null,
   "metadata": {},
   "outputs": [],
   "source": [
    "%run 'mpl_animation_html.ipynb'\n",
    "\n",
    "import matplotlib\n",
    "import matplotlib.animation as animation"
   ]
  },
  {
   "cell_type": "code",
   "execution_count": null,
   "metadata": {
    "collapsed": false,
    "jupyter": {
     "outputs_hidden": false
    }
   },
   "outputs": [],
   "source": [
    "solver = dae('ida', residual, \n",
    "             compute_initcond='yp0',\n",
    "             first_step_size=1e-18,\n",
    "             atol=1e-6,\n",
    "             rtol=1e-6,\n",
    "             algebraic_vars_idx=[4],\n",
    "             old_api=False)\n",
    "time = 0.\n",
    "endtime = 10.\n",
    "frames_per_second = 10.\n",
    "timestep = 1/frames_per_second\n",
    "solver.init_step(time, z0, zp0)\n",
    "plott = []\n",
    "plotx = []\n",
    "ploty = []\n",
    "while True:\n",
    "    time += timestep\n",
    "    # fix roundoff error at end\n",
    "    if time > endtime: time = endtime\n",
    "    solution = solver.step(time)\n",
    "    if solution.errors.t:\n",
    "        print ('Error: ', solution.message, 'Error at time', solution.errors.t)\n",
    "        break\n",
    "    #we store output for plotting\n",
    "    plott.append(solution.values.t)\n",
    "    plotx.append(solution.values.y[0])\n",
    "    ploty.append(solution.values.y[1])\n",
    "    if time >= endtime:\n",
    "        break"
   ]
  },
  {
   "cell_type": "code",
   "execution_count": null,
   "metadata": {
    "collapsed": false,
    "jupyter": {
     "outputs_hidden": false
    }
   },
   "outputs": [],
   "source": [
    "# First set up the figure, and the axis we want to animate\n",
    "fig = plt.figure()\n",
    "sizex = l*1.1\n",
    "sizey = l*1.1\n",
    "rad = l*0.1\n",
    "ax = plt.axes(aspect='equal', xlim=(-sizex, sizex), ylim=(-sizey, sizey))\n",
    "\n",
    "ims = []\n",
    "\n",
    "def drawonesol(nr):\n",
    "    artist1, = circle(ax, plotx[nr], ploty[nr], rad)\n",
    "    artist2, = line(ax, 0, 0, plotx[nr], ploty[nr])\n",
    "    return (artist2, artist1)\n",
    "\n",
    "def create_animation(sizex, sizey):\n",
    "    \"\"\"\n",
    "    The calculation step is 1e-2, so output every 5 solutions or 0.05, means\n",
    "    a frame rate of 20 frames per second\n",
    "    \"\"\"\n",
    "    for solnr in range(len(plott)):\n",
    "        arts = drawonesol(solnr)\n",
    "        ims.append(arts)\n",
    "\n",
    "create_animation(sizex, sizey)\n",
    "#one frame every 100 milliseconds\n",
    "animation.ArtistAnimation(fig, ims, interval=1000/frames_per_second, blit=True)"
   ]
  }
 ],
 "metadata": {
  "kernelspec": {
   "display_name": "Python 3 (ipykernel)",
   "language": "python",
   "name": "python3"
  },
  "language_info": {
   "codemirror_mode": {
    "name": "ipython",
    "version": 3
   },
   "file_extension": ".py",
   "mimetype": "text/x-python",
   "name": "python",
   "nbconvert_exporter": "python",
   "pygments_lexer": "ipython3",
   "version": "3.12.4"
  }
 },
 "nbformat": 4,
 "nbformat_minor": 4
}
