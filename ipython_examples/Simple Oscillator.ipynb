{
 "cells": [
  {
   "cell_type": "code",
   "execution_count": null,
   "metadata": {},
   "outputs": [],
   "source": [
    "%matplotlib inline"
   ]
  },
  {
   "cell_type": "markdown",
   "metadata": {},
   "source": [
    "# Simple Oscillator Example\n",
    "\n",
    "This example shows the most simple way of using a solver.\n",
    "We solve free vibration of a simple oscillator:\n",
    "$$m \\ddot{u} + k u = 0,\\quad u(0) = u_0,\\quad \\dot{u}(0) = \\dot{u}_0$$\n",
    "using the CVODE solver. An analytical solution exists, given by\n",
    "$$u(t) = u_0 \\cos\\left(\\sqrt{\\frac{k}{m}} t\\right)+\\frac{\\dot{u}_0}{\\sqrt{\\frac{k}{m}}} \\sin\\left(\\sqrt{\\frac{k}{m}} t\\right)$$"
   ]
  },
  {
   "cell_type": "code",
   "execution_count": null,
   "metadata": {},
   "outputs": [],
   "source": [
    "from __future__ import print_function\n",
    "import matplotlib.pyplot as plt\n",
    "import numpy as np\n",
    "from scikits.odes import ode"
   ]
  },
  {
   "cell_type": "code",
   "execution_count": null,
   "metadata": {},
   "outputs": [],
   "source": [
    "#data of the oscillator\n",
    "k = 4.0\n",
    "m = 1.0\n",
    "#initial position and speed data on t=0, x[0] = u, x[1] = \\dot{u}, xp = \\dot{x}\n",
    "initx = [1, 0.1]"
   ]
  },
  {
   "cell_type": "markdown",
   "metadata": {},
   "source": [
    "We need a first order system, so convert the second order system \n",
    "$$m \\ddot{u} + k u = 0,\\quad u(0) = u_0,\\quad \\dot{u}(0) = \\dot{u}_0$$\n",
    "into \n",
    "$$\\left\\{ \\begin{array}{l}\n",
    "  \\dot u = v\\\\\n",
    "  \\dot v = \\ddot u = -\\frac{ku}{m}\n",
    "\\end{array} \\right.$$\n",
    "You need to define a function that computes the right hand side of above equation:"
   ]
  },
  {
   "cell_type": "code",
   "execution_count": null,
   "metadata": {},
   "outputs": [],
   "source": [
    "def rhseqn(t, x, xdot):\n",
    "    \"\"\" we create rhs equations for the problem\"\"\"\n",
    "    xdot[0] = x[1]\n",
    "    xdot[1] = - k/m * x[0]"
   ]
  },
  {
   "cell_type": "markdown",
   "metadata": {},
   "source": [
    "To solve the ODE you define an ode object, specify the solver to use, here cvode, and pass the right hand side function. You request the solution at specific timepoints by passing an array of times to the solve member."
   ]
  },
  {
   "cell_type": "code",
   "execution_count": null,
   "metadata": {},
   "outputs": [],
   "source": [
    "solver = ode('cvode', rhseqn, old_api=False)\n",
    "solution = solver.solve([0., 1., 2.], initx)"
   ]
  },
  {
   "cell_type": "code",
   "execution_count": null,
   "metadata": {},
   "outputs": [],
   "source": [
    "print('\\n   t        Solution          Exact')\n",
    "print('------------------------------------')\n",
    "for t, u in zip(solution.values.t, solution.values.y):\n",
    "    print('{0:>4.0f} {1:15.6g} {2:15.6g}'.format(t, u[0], \n",
    "           initx[0]*np.cos(np.sqrt(k/m)*t)+initx[1]*np.sin(np.sqrt(k/m)*t)/np.sqrt(k/m)))\n"
   ]
  },
  {
   "cell_type": "markdown",
   "metadata": {},
   "source": [
    "You can continue the solver by passing further times. Calling the solve routine reinits the solver, so you can restart at whatever time. To continue from the last computed solution, pass the last obtained time and solution. \n",
    "\n",
    "**Note:** The solver performes better if it can take into account history information, so avoid calling solve to continue computation!\n",
    "\n",
    "In general, you must check for errors using the errors output of solve."
   ]
  },
  {
   "cell_type": "code",
   "execution_count": null,
   "metadata": {},
   "outputs": [],
   "source": [
    "#Solve over the next hour by continuation\n",
    "times = np.linspace(0, 3600, 61)\n",
    "times[0] = solution.values.t[-1]\n",
    "solution = solver.solve(times, solution.values.y[-1])\n",
    "if solution.errors.t:\n",
    "    print ('Error: ', solution.message, 'Error at time', solution.errors.t)\n",
    "print ('Computed Solutions:')\n",
    "print('\\n   t        Solution          Exact')\n",
    "print('------------------------------------')\n",
    "for t, u in zip(solution.values.t, solution.values.y):\n",
    "    print('{0:>4.0f} {1:15.6g} {2:15.6g}'.format(t, u[0], \n",
    "           initx[0]*np.cos(np.sqrt(k/m)*t)+initx[1]*np.sin(np.sqrt(k/m)*t)/np.sqrt(k/m)))\n"
   ]
  },
  {
   "cell_type": "markdown",
   "metadata": {},
   "source": [
    "The solution fails at a time around 24 seconds. Erros can be due to many things. Here however the reason is simple: we try to make too large jumps in time output. Increasing the allowed steps the solver can take will fix this. This is the **max_steps** option of cvode:"
   ]
  },
  {
   "cell_type": "code",
   "execution_count": null,
   "metadata": {},
   "outputs": [],
   "source": [
    "solver = ode('cvode', rhseqn, old_api=False, max_steps=5000)\n",
    "solution = solver.solve(times, solution.values.y[-1])\n",
    "if solution.errors.t:\n",
    "    print ('Error: ', solution.message, 'Error at time', solution.errors.t)\n",
    "print ('Computed Solutions:')\n",
    "print('\\n   t        Solution          Exact')\n",
    "print('------------------------------------')\n",
    "for t, u in zip(solution.values.t, solution.values.y):\n",
    "    print('{0:>4.0f} {1:15.6g} {2:15.6g}'.format(t, u[0], \n",
    "           initx[0]*np.cos(np.sqrt(k/m)*t)+initx[1]*np.sin(np.sqrt(k/m)*t)/np.sqrt(k/m)))\n"
   ]
  },
  {
   "cell_type": "markdown",
   "metadata": {},
   "source": [
    "To plot the simple oscillator, we show a (t,x) plot of the solution. Doing this over 60 seconds can be done as follows:"
   ]
  },
  {
   "cell_type": "code",
   "execution_count": null,
   "metadata": {},
   "outputs": [],
   "source": [
    "#plot of the oscilator\n",
    "solver = ode('cvode', rhseqn, old_api=False)\n",
    "times = np.linspace(0,60,600)\n",
    "solution = solver.solve(times, initx)\n",
    "plt.plot(solution.values.t,[x[0] for x in solution.values.y])\n",
    "plt.xlabel('Time [s]')\n",
    "plt.ylabel('Position [m]')\n",
    "plt.show()"
   ]
  },
  {
   "cell_type": "markdown",
   "metadata": {},
   "source": [
    "You can refine the tolerances from their defaults to obtain more accurate solutions"
   ]
  },
  {
   "cell_type": "code",
   "execution_count": null,
   "metadata": {},
   "outputs": [],
   "source": [
    "options1= {'rtol': 1e-6, 'atol': 1e-12, 'max_steps': 50000}      # default rtol and atol\n",
    "options2= {'rtol': 1e-15, 'atol': 1e-25, 'max_steps': 50000}\n",
    "solver1 = ode('cvode', rhseqn, old_api=False, **options1)\n",
    "solver2 = ode('cvode', rhseqn, old_api=False, **options2)\n",
    "solution1 = solver1.solve([0., 1., 60], initx)\n",
    "solution2 = solver2.solve([0., 1., 60], initx)\n",
    "\n",
    "print('\\n   t       Solution1       Solution2          Exact')\n",
    "print('-----------------------------------------------------')\n",
    "for t, u1, u2 in zip(solution1.values.t, solution1.values.y, solution2.values.y):\n",
    "    print('{0:>4.0f} {1:15.8g} {2:15.8g} {3:15.8g}'.format(t, u1[0], u2[0], \n",
    "           initx[0]*np.cos(np.sqrt(k/m)*t)+initx[1]*np.sin(np.sqrt(k/m)*t)/np.sqrt(k/m)))"
   ]
  },
  {
   "cell_type": "markdown",
   "metadata": {
    "collapsed": true,
    "jupyter": {
     "outputs_hidden": true
    }
   },
   "source": [
    "# Simple Oscillator Example: Stepwise running\n",
    "When using the *solve* method, you solve over a period of time you decided before. In some problems you might want to solve and decide on the output when to stop. Then you use the *step* method. The same example as above using the step method can be solved as follows. \n",
    "\n",
    "You define the ode object selecting the cvode solver. You initialize the solver with the begin time and initial conditions using *init_step*. You compute solutions going forward with the *step* method."
   ]
  },
  {
   "cell_type": "code",
   "execution_count": null,
   "metadata": {},
   "outputs": [],
   "source": [
    "solver = ode('cvode', rhseqn, old_api=False)\n",
    "time = 0.\n",
    "solver.init_step(time, initx)\n",
    "plott = []\n",
    "plotx = []\n",
    "while True:\n",
    "    time += 0.1\n",
    "    # fix roundoff error at end\n",
    "    if time > 60: time = 60\n",
    "    solution = solver.step(time)\n",
    "    if solution.errors.t:\n",
    "        print ('Error: ', solution.message, 'Error at time', solution.errors.t)\n",
    "        break\n",
    "    #we store output for plotting\n",
    "    plott.append(solution.values.t)\n",
    "    plotx.append(solution.values.y[0])\n",
    "    if time >= 60:\n",
    "        break\n",
    "plt.plot(plott,plotx)\n",
    "plt.xlabel('Time [s]')\n",
    "plt.ylabel('Position [m]')\n",
    "plt.show()"
   ]
  },
  {
   "cell_type": "markdown",
   "metadata": {},
   "source": [
    "The solver interpolates solutions to return the solution at the required output times:"
   ]
  },
  {
   "cell_type": "code",
   "execution_count": null,
   "metadata": {},
   "outputs": [],
   "source": [
    "print ('plott length:', len(plott), ', last computation times:', plott[-15:]);"
   ]
  },
  {
   "cell_type": "markdown",
   "metadata": {},
   "source": [
    "# Simple Oscillator Example: Internal Solver Stepwise running\n",
    "When using the *solve* method, you solve over a period of time you decided before. With the *step* method you solve by default towards a desired output time after which you can continue solving the problem. \n",
    "\n",
    "For full control, you can also compute problems using the solver internal steps. This is not advised, as the number of return steps can be very large, **slowing down** the computation enormously. If you want this nevertheless, you can achieve it with the *one_step_compute* option. Like this:"
   ]
  },
  {
   "cell_type": "code",
   "execution_count": null,
   "metadata": {},
   "outputs": [],
   "source": [
    "solver = ode('cvode', rhseqn, old_api=False, one_step_compute=True)\n",
    "time = 0.\n",
    "solver.init_step(time, initx)\n",
    "plott = []\n",
    "plotx = []\n",
    "while True:\n",
    "    solution = solver.step(60)\n",
    "    if solution.errors.t:\n",
    "        print ('Error: ', solution.message, 'Error at time', solution.errors.t)\n",
    "        break\n",
    "    #we store output for plotting\n",
    "    plott.append(solution.values.t)\n",
    "    plotx.append(solution.values.y[0]) \n",
    "    if solution.values.t >= 60:\n",
    "        #back up to 60\n",
    "        solver.set_options(one_step_compute=False)\n",
    "        solution = solver.step(60)\n",
    "        plott[-1] = solution.values.t\n",
    "        plotx[-1] = solution.values.y[0]\n",
    "        break\n",
    "plt.plot(plott,plotx)\n",
    "plt.xlabel('Time [s]')\n",
    "plt.ylabel('Position [m]')\n",
    "plt.show()"
   ]
  },
  {
   "cell_type": "markdown",
   "metadata": {},
   "source": [
    "By inspection of the returned times you can see how efficient the solver can solve this problem:"
   ]
  },
  {
   "cell_type": "code",
   "execution_count": null,
   "metadata": {},
   "outputs": [],
   "source": [
    "print ('plott length:', len(plott), ', last computation times:', plott[-15:]);"
   ]
  }
 ],
 "metadata": {
  "kernelspec": {
   "display_name": "Python 3 (ipykernel)",
   "language": "python",
   "name": "python3"
  },
  "language_info": {
   "codemirror_mode": {
    "name": "ipython",
    "version": 3
   },
   "file_extension": ".py",
   "mimetype": "text/x-python",
   "name": "python",
   "nbconvert_exporter": "python",
   "pygments_lexer": "ipython3",
   "version": "3.12.4"
  }
 },
 "nbformat": 4,
 "nbformat_minor": 4
}
