{
 "cells": [
  {
   "cell_type": "code",
   "execution_count": null,
   "metadata": {},
   "outputs": [],
   "source": [
    "%matplotlib inline"
   ]
  },
  {
   "cell_type": "markdown",
   "metadata": {},
   "source": [
    "# Double Pendulum Example\n",
    "\n",
    "The question this example solves is: given a double pendulum, at what *times* does the bottom pendulum **cross the Y axis**? \n",
    "\n",
    "At the same time this example shows how to solve the double pendulum in full coordinate space. This results in a dae system with two algebraic equation. We also use the jacobian to improve the results\n",
    "\n",
    "The problem is easily stated: a first pendulum must move on a circle with\n",
    "radius $l_1$ and has mass $m_1$, a second one is attached and must move on a circle\n",
    "with radius $l_2$, it has a mass $m_2$, and the gravitational accelleration is $g$.\n",
    "The Lagragian is\n",
    "$$\n",
    "    L = \\frac{1}{2} m_1 (u_1^2 + v_1^2) - m_1 g y_1 + \\frac{1}{2}m_2 (u_2^2 + v_2^2) - m_2 g y_2\n",
    "            + \\frac{\\lambda_1}{2} (x_1^2+y_1^2 - l_1^2) + \\frac{\\lambda_2}{2} ((x_2-x_1)^2+(y_2-y_1)^2 - l_2^2),\n",
    "$$\n",
    "where $u$ and $v$ are used to indicate velocity. \n",
    "The last two terms are Lagrange multipliers following from the two constraints:\n",
    "$x_1^2+y_1^2 - l_1^2 = 0$ and $(x_2-x_1)^2+(y_2-y_1)^2 - l_2^2 = 0$, which adds the two \n",
    "unkowns $\\lambda_1$ and $\\lambda_2$ to the system.\n",
    "\n",
    "We arrive at the Euler-Lagrange differential equations for the problem, which\n",
    "will have 8 DE and 2 constraints.\n",
    "We add however two more constraints to the problem, following from deriving to\n",
    "time the two known constraints:\n",
    "$$x_1 u_1+y_1 v_1 = 0$$ \n",
    "and \n",
    "$$(x_2-x_1) (u_2-u_1)+(y_2-y_1) (v_2-v_1)=0.$$\n",
    "\n",
    "These equations do not change the derived equations if their Lagrange multiplier\n",
    "is supposed independent of time, as the terms they contribute\n",
    "annihilate each other.\n",
    "We introduce the Lagrange multipliers back into the residual by adding them\n",
    "to the velocity terms as\n",
    "$$ \\frac{dx_1}{dt} = u1 - \\lambda_i  x_1, ...$$\n",
    "We arrive like this at the stablized index 2 double pendulum model.\n",
    "\n",
    "An better alternative is to use an index 1 model, which does not need the stabilizing\n",
    "terms. This leads to 8 DE, and 2 algebraic equations. These 2 follow from\n",
    "deriving the two contraints *twice* to time, and replacing the second derivatives\n",
    "by their definitions.\n",
    "\n",
    "$$\n",
    "\\begin{array}{ll}\n",
    "        0= m_1 \\dot{u_1}        - \\lambda_2 (x_1 - x_2)  - x_1 \\lambda_1\\\\\n",
    "        0= m_1 \\dot{v_1} + g m_1 - \\lambda_2 (y_1 - y_2)  - y_1 \\lambda_1\\\\\n",
    "        0= m_2 \\dot{u_2}        + \\lambda_2 (x_1 - x_2)\\\\\n",
    "        0= m_2 \\dot{v_2} + g m_2 + \\lambda_2 (y_1 - y_2)\\\\\n",
    "        0= \\dot{x_1}-u_1\\\\\n",
    "        0= \\dot{y_1}-v_1\\\\\n",
    "        0= \\dot{x_2}-u_2\\\\\n",
    "        0= \\dot{y_2}-v_2\\\\\n",
    "        0 = u_1^2 + v_1^2 + \\frac{\\lambda_1}{m_1} (x_1^2 + y_1^2) - g   y_1 + \\frac{\\lambda_2}{m_1} (x_1 (x_1-x_2) +  y_1 (y_1-y_2) )\\\\\n",
    "        0 = (u_1-u_2)^2 + (v_1-v_2)^2  + \\lambda_2 (\\frac{1}{m_1}+\\frac{1}{m_2}) ((x_1-x_2)^2 + (y_1-y_2)^2) + \\frac{\\lambda_1}{m_1}  (x_1 (x_1-x_2) + y_1 (y_1-y_2) )\\\\\n",
    "\\end{array}\n",
    "$$\n",
    "\n",
    "The solver used approximates the Jacobian if the Jacobian is not passed. As the Jacobian of the resulting\n",
    "system is easily computed analytically, we can aid the solver by providing the\n",
    "Jacobian. We conclude that we will need to solve an index 1 problem with the Jacobian\n",
    "prescribed.\n",
    "\n",
    "The algorithm first needs to find initial conditions for the derivatives,\n",
    "then it solves the problem at hand. We take $g=9.8$, $m_1=2$, $m_2=1$, $l_1=5$, $l_2=2$,\n",
    "where the initial position is at rest horizontally.\n",
    "\n",
    "The algorithm computes the solution over 125 seconds, and plots the orbits of\n",
    "the pendula, as well as the energy of the system (should be conserved at the\n",
    "beginning value E=0).\n",
    "\n"
   ]
  },
  {
   "cell_type": "code",
   "execution_count": null,
   "metadata": {},
   "outputs": [],
   "source": [
    "from __future__ import print_function, division\n",
    "import matplotlib.pyplot as plt\n",
    "import numpy as np\n",
    "from numpy import (arange, zeros, array, sin, cos, asarray, sqrt, pi, empty)\n",
    "from scikits.odes import dae\n",
    "from scikits.odes.sundials import ida"
   ]
  },
  {
   "cell_type": "markdown",
   "metadata": {},
   "source": [
    "We use the following ordering in the array of unknowns:\n",
    "\n",
    "array yy $[x_1, y_1, x_2, y_2, u_1, v_1, u_2, v_2, \\lambda_1, \\lambda_2]$\n",
    "\n",
    "array yp $[\\dot{x_1}, \\dot{y_1}, \\dot{x_2}, \\dot{y_2}, \\dot{u_1}, \\dot{v_1}, \\dot{u_2}, \\dot{v_2}, \\dot{\\lambda_1}, \\dot{\\lambda_2}]$"
   ]
  },
  {
   "cell_type": "code",
   "execution_count": null,
   "metadata": {},
   "outputs": [],
   "source": [
    "#data of the pendulum\n",
    "#class to hold the problem data\n",
    "class Doublependulum():\n",
    "    \"\"\" The problem class with the residual function and the constants defined\n",
    "    \"\"\"\n",
    "    #default values\n",
    "    deftend = 300.\n",
    "    deftstep = 1e-2\n",
    "    defx0 = 5\n",
    "    defy0 = 0\n",
    "    defx1 = 7\n",
    "    defy1 = 0\n",
    "\n",
    "    defg = 9.8\n",
    "    defm1 = 2.0\n",
    "    defm2 = 1.0\n",
    "    defradius1 = 5.\n",
    "    defradius2 = 2.\n",
    "\n",
    "    def __init__(self, data=None):\n",
    "        self.tend = Doublependulum.deftend\n",
    "        self.tstep = Doublependulum.deftstep\n",
    "        self.x0 = Doublependulum.defx0\n",
    "        self.y0 = Doublependulum.defy0\n",
    "        self.x1 = Doublependulum.defx1\n",
    "        self.y1 = Doublependulum.defy1\n",
    "        self.m1 = Doublependulum.defm1\n",
    "        self.m2 = Doublependulum.defm2\n",
    "        self.radius1 = Doublependulum.defradius1\n",
    "        self.radius2 = Doublependulum.defradius2\n",
    "        self.g = Doublependulum.defg\n",
    "\n",
    "        #residual and jacabian function\n",
    "        self.res = None\n",
    "        self.jac = None\n",
    "\n",
    "        if data is not None:\n",
    "            self.tend = data.deftend\n",
    "            self.tstep = data.deftstep\n",
    "            self.x0 = data.x0\n",
    "            self.y0 = data.y0\n",
    "            self.x1 = data.x1\n",
    "            self.y1 = data.y1\n",
    "            self.m1 = data.m1\n",
    "            self.m2 = data.m2\n",
    "            self.radius1 = data.radius1\n",
    "            self.radius2 = data.radius2\n",
    "            self.g = data.g\n",
    "\n",
    "        self.stop_t  = arange(.0, self.tend, self.tstep)\n",
    "\n",
    "        # the index1 problem with jacobian :\n",
    "        self.neq = 10\n",
    "        #initial conditions\n",
    "        lambdaval = 0.0\n",
    "        self.z0 =  array([self.x0, self.y0, self.x1, self.y1, 0., 0., 0.,\n",
    "                          0., lambdaval, lambdaval])\n",
    "        self.zprime0 = array([0., 0., 0., 0., -lambdaval*self.x0,\n",
    "                              -lambdaval*self.y0-self.g,\n",
    "                              -lambdaval*self.x1,\n",
    "                              -lambdaval*self.y1-self.g, 0., 0.], float)\n",
    "        self.algvar_idx = [8, 9]\n",
    "        self.algvar = array([1, 1, 1, 1, 1, 1, 1, 1, -1, -1])\n",
    "        self.exclalg_err = False\n",
    "\n",
    "    def set_res(self, resfunction):\n",
    "        \"\"\"Function to set the resisual function as required by IDA\"\"\"\n",
    "        self.res = resfunction\n",
    "\n",
    "    def set_jac(self, jacfunction):\n",
    "        \"\"\"Function to set the resisual function as required by IDA\"\"\"\n",
    "        self.jac = jacfunction\n"
   ]
  },
  {
   "cell_type": "markdown",
   "metadata": {},
   "source": [
    "The ida interface allows to use classes as residual and jacobian function. This has the benefit that local data can be used. For this, you inherit your classes from *ida.IDA_RhsFunction* and *ida.IDA_JacRhsFunction* and provide an evaluate function with a specific signature."
   ]
  },
  {
   "cell_type": "code",
   "execution_count": null,
   "metadata": {},
   "outputs": [],
   "source": [
    "# we now consider the residual and jacobian functions\n",
    "\n",
    "class resindex1(ida.IDA_RhsFunction):\n",
    "    \"\"\" Residual function class as needed by the IDA DAE solver\"\"\"\n",
    "\n",
    "    def set_dblpend(self, dblpend):\n",
    "        \"\"\" Set the double pendulum problem to solve to have access to\n",
    "            the data \"\"\"\n",
    "        self.dblpend = dblpend\n",
    "\n",
    "    def evaluate(self, tres, yy, yp, result, userdata):\n",
    "        m1 = self.dblpend.m1\n",
    "        m2 = self.dblpend.m2\n",
    "        g = self.dblpend.g\n",
    "\n",
    "        result[0]= m1*yp[4]        - yy[9]*(yy[0] - yy[2])  - yy[0]*yy[8]\n",
    "        result[1]= m1*yp[5] + g*m1 - yy[9]*(yy[1] - yy[3])  - yy[1]*yy[8]\n",
    "        result[2]= m2*yp[6]        + yy[9]*(yy[0] - yy[2])\n",
    "        result[3]= m2*yp[7] + g*m2 + yy[9]*(yy[1] - yy[3])\n",
    "        result[4]= yp[0] - yy[4]\n",
    "        result[5]= yp[1] - yy[5]\n",
    "        result[6]= yp[2] - yy[6]\n",
    "        result[7]= yp[3] - yy[7]\n",
    "        result[8] = yy[4]**2 + yy[5]**2 + yy[8]/m1*(yy[0]**2 + yy[1]**2) \\\n",
    "                    - g * yy[1] + yy[9]/m1 *(yy[0]*(yy[0]-yy[2]) +\n",
    "                                            yy[1]*(yy[1]-yy[3]) )\n",
    "        result[9] = (yy[4]-yy[6])**2 + (yy[5]-yy[7])**2 \\\n",
    "                  + yy[9]*(1./m1+1./m2)*((yy[0]-yy[2])**2 + (yy[1]-yy[3])**2)\\\n",
    "                  + yy[8]/m1 *(yy[0]*(yy[0]-yy[2]) + yy[1]*(yy[1]-yy[3]) )\n",
    "        return 0\n",
    "\n",
    "class jacindex1(ida.IDA_JacRhsFunction):\n",
    "\n",
    "    def set_dblpend(self, dblpend):\n",
    "        \"\"\" Set the double pendulum problem to solve to have access to\n",
    "            the data \"\"\"\n",
    "        self.dblpend = dblpend\n",
    "\n",
    "    def evaluate(self, tres, yy, yp, cj, jac):\n",
    "\n",
    "        m1 = self.dblpend.m1\n",
    "        m2 = self.dblpend.m2\n",
    "        g = self.dblpend.g\n",
    "        jac[:,:] = 0.\n",
    "        jac[0][0] = - yy[9]   - yy[8]\n",
    "        jac[0][2] =  yy[9]\n",
    "        jac[0][4] = cj * m1\n",
    "        jac[0][8] = - yy[0]\n",
    "        jac[0][9] = - (yy[0] - yy[2])\n",
    "        jac[1][1] = - yy[9] - yy[8]\n",
    "        jac[1][3] = yy[9]\n",
    "        jac[1][5] = cj * m1\n",
    "        jac[1][8] = - yy[1]\n",
    "        jac[1][9] = - (yy[1] - yy[3])\n",
    "        jac[2][0] = yy[9]\n",
    "        jac[2][2] = -yy[9]\n",
    "        jac[2][6] = cj * m2\n",
    "        jac[2][9] = (yy[0] - yy[2])\n",
    "        jac[3][1] = yy[9]\n",
    "        jac[3][3] = -yy[9]\n",
    "        jac[3][7] = cj * m2\n",
    "        jac[3][9] = (yy[1] - yy[3])\n",
    "        jac[4][0] = cj\n",
    "        jac[4][4] = -1\n",
    "        jac[5][1] = cj\n",
    "        jac[5][5] = -1\n",
    "        jac[6][2] = cj\n",
    "        jac[6][6] = -1\n",
    "        jac[7][3] = cj\n",
    "        jac[7][7] = -1\n",
    "        jac[8][0] = (yy[8]+yy[9])/m1*2*yy[0] - yy[9]/m1 * yy[2]\n",
    "        jac[8][1] = (yy[8]+yy[9])/m1*2*yy[1] - yy[9]/m1 * yy[3] - g\n",
    "        jac[8][2] = - yy[9]/m1 * yy[0]\n",
    "        jac[8][3] = - yy[9]/m1 * yy[1]\n",
    "        jac[8][4] = 2*yy[4]\n",
    "        jac[8][5] = 2*yy[5]\n",
    "        jac[8][8] = 1./m1*(yy[0]**2 + yy[1]**2)\n",
    "        jac[8][9] = 1./m1 *(yy[0]*(yy[0]-yy[2]) + yy[1]*(yy[1]-yy[3]) )\n",
    "        jac[9][0] = yy[9]*(1./m1+1./m2)*2*(yy[0]-yy[2]) + \\\n",
    "                    yy[8]/m1 *(2*yy[0] - yy[2])\n",
    "        jac[9][1] = yy[9]*(1./m1+1./m2)*2*(yy[1]-yy[3]) + \\\n",
    "                    yy[8]/m1 *(2*yy[1] - yy[3])\n",
    "        jac[9][2] = - yy[9]*(1./m1+1./m2)*2*(yy[0]-yy[2]) - \\\n",
    "                    yy[8]/m1 * yy[0]\n",
    "        jac[9][3] = - yy[9]*(1./m1+1./m2)*2*(yy[1]-yy[3])\n",
    "        jac[9][4] = 2*(yy[4]-yy[6])\n",
    "        jac[9][5] = 2*(yy[5]-yy[7])\n",
    "        jac[9][6] = -2*(yy[4]-yy[6])\n",
    "        jac[9][7] = -2*(yy[5]-yy[7])\n",
    "        jac[9][8] = 1./m1 *(yy[0]*(yy[0]-yy[2]) + yy[1]*(yy[1]-yy[3]) )\n",
    "        jac[9][9] = (1./m1+1./m2)*((yy[0]-yy[2])**2 + (yy[1]-yy[3])**2)\n",
    "        return 0\n"
   ]
  },
  {
   "cell_type": "markdown",
   "metadata": {},
   "source": [
    "We want to determine when and how the bottom pendulum crosses the Y axis. Crossing the Y axis means $x_1=0$, which is the third unknown in the equations, so we define a root function to pass to the solver:"
   ]
  },
  {
   "cell_type": "code",
   "execution_count": null,
   "metadata": {},
   "outputs": [],
   "source": [
    "#  a root function has a specific signature. Result will be of size nr_rootfns, and must be filled with the result of the \n",
    "#  function that is observed to determine if a root is present.\n",
    "def crosses_Y(t, yy, yp, result, user_data):\n",
    "    result[0] = yy[2]\n"
   ]
  },
  {
   "cell_type": "markdown",
   "metadata": {},
   "source": [
    "To solve the DAE you define a dae object, specify the solver to use, here ida, and pass the residual function and if available the jacobian.\n",
    "As we use classes for our functions to have access to user data, we need to instantiate them first. "
   ]
  },
  {
   "cell_type": "code",
   "execution_count": null,
   "metadata": {
    "collapsed": false,
    "jupyter": {
     "outputs_hidden": false
    }
   },
   "outputs": [],
   "source": [
    "problem = Doublependulum()\n",
    "res = resindex1()\n",
    "jac = jacindex1()\n",
    "res.set_dblpend(problem)\n",
    "jac.set_dblpend(problem)\n",
    "solver = dae('ida', res, \n",
    "             compute_initcond='yp0',\n",
    "             first_step_size=1e-18,\n",
    "             atol=1e-10,\n",
    "             rtol=1e-8,\n",
    "             max_steps=5000,\n",
    "             jacfn=jac,\n",
    "             algebraic_vars_idx=problem.algvar_idx,\n",
    "             exclude_algvar_from_error=problem.exclalg_err,\n",
    "             rootfn=crosses_Y, nr_rootfns=1,\n",
    "             old_api=False)"
   ]
  },
  {
   "cell_type": "markdown",
   "metadata": {},
   "source": [
    "We can now sove the problem stepwise. "
   ]
  },
  {
   "cell_type": "code",
   "execution_count": null,
   "metadata": {
    "collapsed": false,
    "jupyter": {
     "outputs_hidden": false
    }
   },
   "outputs": [],
   "source": [
    "#storage of solution\n",
    "x1t = np.empty(len(problem.stop_t), float)\n",
    "y1t = np.empty(len(problem.stop_t), float)\n",
    "x2t = np.empty(len(problem.stop_t), float)\n",
    "y2t = np.empty(len(problem.stop_t), float)\n",
    "xp1t = np.empty(len(problem.stop_t), float)\n",
    "yp1t = np.empty(len(problem.stop_t), float)\n",
    "xp2t = np.empty(len(problem.stop_t), float)\n",
    "yp2t = np.empty(len(problem.stop_t), float)\n",
    "\n",
    "sol = solver.init_step(0., problem.z0, problem.zprime0)\n",
    "if sol.errors.t:\n",
    "    print('Error in determination init condition')\n",
    "    print(sol.message)\n",
    "else:\n",
    "    ind = 0\n",
    "    x1t[ind] = sol.values.y[0]\n",
    "    y1t[ind] = sol.values.y[1]\n",
    "    x2t[ind] = sol.values.y[2]\n",
    "    y2t[ind] = sol.values.y[3]\n",
    "    xp1t[ind] = sol.values.ydot[0]\n",
    "    yp1t[ind] = sol.values.ydot[1]\n",
    "    xp2t[ind] = sol.values.ydot[2]\n",
    "    yp2t[ind] = sol.values.ydot[3]\n",
    "\n",
    "lastind = len(problem.stop_t)\n",
    "for index,time in enumerate(problem.stop_t[1:]):\n",
    "    #print 'at time', time\n",
    "    sol = solver.step(time)\n",
    "    if sol.errors.t:\n",
    "        lastind = index+1\n",
    "        print('Error in solver, breaking solution at time %g' % time)\n",
    "        print(sol.message)\n",
    "        break\n",
    "    ind = index + 1\n",
    "    x1t[ind] = sol.values.y[0]\n",
    "    y1t[ind] = sol.values.y[1]\n",
    "    x2t[ind] = sol.values.y[2]\n",
    "    y2t[ind] = sol.values.y[3]\n",
    "    xp1t[ind] = sol.values.ydot[0]\n",
    "    yp1t[ind] = sol.values.ydot[1]\n",
    "    xp2t[ind] = sol.values.ydot[2]\n",
    "    yp2t[ind] = sol.values.ydot[3]\n",
    "\n",
    "energy = problem.m1*problem.g*y1t + \\\n",
    "            problem.m2*problem.g*y2t + \\\n",
    "            .5 *(problem.m1 * (xp1t**2 + yp1t**2)\n",
    "                 + problem.m2 * (xp2t**2 + yp2t**2) )"
   ]
  },
  {
   "cell_type": "markdown",
   "metadata": {},
   "source": [
    "The solver can't obtain a solution with the required precision after a certain time. Increasing *max_steps* would allow to compute longer.\n",
    "\n",
    "A plot of the movement at the start, and of the envergy over the computed duration goes as follows:"
   ]
  },
  {
   "cell_type": "code",
   "execution_count": null,
   "metadata": {
    "collapsed": false,
    "jupyter": {
     "outputs_hidden": false
    }
   },
   "outputs": [],
   "source": [
    "# quick plot:\n",
    "plt.figure(1)\n",
    "plt.title('IDA solution')\n",
    "plt.scatter(x1t[:min(lastind,1000)], y1t[:min(lastind,1000)])\n",
    "plt.scatter(x2t[:min(lastind,1000)], y2t[:min(lastind,1000)])\n",
    "plt.xlabel('x')\n",
    "plt.ylabel('y')\n",
    "plt.xlim(-10, 10)\n",
    "plt.ylim(-8, 2)\n",
    "plt.axis('equal')\n",
    "\n",
    "plt.figure(2)\n",
    "plt.plot(problem.stop_t[:lastind], energy[:lastind], 'b')\n",
    "plt.ylim(-0.1, 0.1)\n",
    "plt.title('Energy Invariant Violation for a Double Pendulum')\n",
    "plt.xlabel('Time (s)')\n",
    "plt.ylabel('Total Energy')\n",
    "plt.axis()\n",
    "plt.show()"
   ]
  },
  {
   "cell_type": "markdown",
   "metadata": {
    "collapsed": false,
    "jupyter": {
     "outputs_hidden": false
    }
   },
   "source": [
    "From the total energy we can see the deviation from the true solution.\n",
    "\n",
    "Next, consider the roots, and let us plot some of them:"
   ]
  },
  {
   "cell_type": "code",
   "execution_count": null,
   "metadata": {
    "collapsed": false,
    "jupyter": {
     "outputs_hidden": false
    }
   },
   "outputs": [],
   "source": [
    "%run 'mpl_animation_html.ipynb'\n",
    "\n",
    "print ('We have found %d crossings of the Y axis' % len(sol.roots.t))\n",
    "print ('Some of the different configutations when crossing the Y axis are:')\n",
    "\n",
    "def drawonesol(nr):\n",
    "    artist1, = circle(ax, sol.roots.y[nr][0], sol.roots.y[nr][1], rad)\n",
    "    artist2, = circle(ax, sol.roots.y[nr][2], sol.roots.y[nr][3], rad)\n",
    "    artist3, = line(ax, 0, 0, sol.roots.y[nr][0], sol.roots.y[nr][1])\n",
    "    artist4, = line(ax, sol.roots.y[nr][0], sol.roots.y[nr][1], sol.roots.y[nr][2], sol.roots.y[nr][3])\n",
    "    return (artist3, artist4,artist1, artist2)\n",
    "\n",
    "sizex = (problem.radius1+problem.radius2)*1.1\n",
    "sizey = (problem.radius1+problem.radius2)*1.1\n",
    "rad = problem.radius2*0.1\n",
    "\n",
    "\n",
    "for ind in np.arange(0,len(sol.roots.t),10):\n",
    "    fig = plt.figure()\n",
    "    ax = plt.axes(aspect='equal', xlim=(-sizex, sizex), ylim=(-sizey, sizey))\n",
    "    arts = drawonesol(ind)\n",
    "    #plt.plot(arts)"
   ]
  },
  {
   "cell_type": "markdown",
   "metadata": {
    "collapsed": true,
    "jupyter": {
     "outputs_hidden": true
    }
   },
   "source": [
    "# Animation of the double pendulum\n",
    "No example of the pendulum is complete without an animation. Having fixed timestep output is ideal to create realistic animations of physical processes. We show at 10 frames per second the first 20 seconds next."
   ]
  },
  {
   "cell_type": "code",
   "execution_count": null,
   "metadata": {},
   "outputs": [],
   "source": [
    "%run 'mpl_animation_html.ipynb'\n",
    "\n",
    "import matplotlib\n",
    "import matplotlib.animation as animation"
   ]
  },
  {
   "cell_type": "code",
   "execution_count": null,
   "metadata": {
    "collapsed": false,
    "jupyter": {
     "outputs_hidden": false
    }
   },
   "outputs": [],
   "source": [
    "time = 0.\n",
    "endtime = 40.\n",
    "frames_per_second = 10.\n",
    "timestep = 1/frames_per_second\n",
    "skipsteps = int(round(timestep/problem.tstep))"
   ]
  },
  {
   "cell_type": "code",
   "execution_count": null,
   "metadata": {
    "collapsed": false,
    "jupyter": {
     "outputs_hidden": false
    }
   },
   "outputs": [],
   "source": [
    "# First set up the figure, and the axis we want to animate\n",
    "fig = plt.figure()\n",
    "ax = plt.axes(aspect='equal', xlim=(-sizex, sizex), ylim=(-sizey, sizey))\n",
    "\n",
    "ims = []\n",
    "\n",
    "def drawonesol(nr):\n",
    "    artist1, = circle(ax, x1t[nr], y1t[nr], rad)\n",
    "    artist2, = circle(ax, x2t[nr], y2t[nr], rad)\n",
    "    artist3, = line(ax, 0, 0, x1t[nr], y1t[nr])\n",
    "    artist4, = line(ax,x1t[nr], y1t[nr], x2t[nr], y2t[nr])\n",
    "    return (artist3, artist4, artist1, artist2)\n",
    "\n",
    "def create_animation(sizex, sizey):\n",
    "    \"\"\"\n",
    "    The calculation step is problem.tstep=1e-2, so output every 10 solutions or 0.1, means\n",
    "    a frame rate of 10 frames per second\n",
    "    \"\"\"\n",
    "    for solnr in range(0,int(round(min(endtime/problem.tstep, lastind))), skipsteps):\n",
    "        arts = drawonesol(solnr)\n",
    "        ims.append(arts)\n",
    "\n",
    "create_animation(sizex, sizey)\n",
    "#one frame every 100 milliseconds\n",
    "animation.ArtistAnimation(fig, ims, interval=1000/frames_per_second, blit=True)"
   ]
  }
 ],
 "metadata": {
  "kernelspec": {
   "display_name": "Python 3 (ipykernel)",
   "language": "python",
   "name": "python3"
  },
  "language_info": {
   "codemirror_mode": {
    "name": "ipython",
    "version": 3
   },
   "file_extension": ".py",
   "mimetype": "text/x-python",
   "name": "python",
   "nbconvert_exporter": "python",
   "pygments_lexer": "ipython3",
   "version": "3.12.4"
  }
 },
 "nbformat": 4,
 "nbformat_minor": 4
}
